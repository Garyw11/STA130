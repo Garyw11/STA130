{
 "cells": [
  {
   "cell_type": "code",
   "execution_count": 1,
   "id": "4e67c830",
   "metadata": {},
   "outputs": [
    {
     "name": "stdout",
     "output_type": "stream",
     "text": [
      "    0   1        2     3      4     5    6    7    8    9   ...    18    19  \\\n",
      "0  2.0   1   530101  38.5   66.0  28.0  3.0  3.0  NaN  2.0  ...  45.0   8.4   \n",
      "1  1.0   1   534817  39.2   88.0  20.0  NaN  NaN  4.0  1.0  ...  50.0  85.0   \n",
      "2  2.0   1   530334  38.3   40.0  24.0  1.0  1.0  3.0  1.0  ...  33.0   6.7   \n",
      "3  1.0   9  5290409  39.1  164.0  84.0  4.0  1.0  6.0  2.0  ...  48.0   7.2   \n",
      "4  2.0   1   530255  37.3  104.0  35.0  NaN  NaN  6.0  2.0  ...  74.0   7.4   \n",
      "\n",
      "    20   21   22  23     24  25  26  27  \n",
      "0  NaN  NaN  2.0   2  11300   0   0   2  \n",
      "1  2.0  2.0  3.0   2   2208   0   0   2  \n",
      "2  NaN  NaN  1.0   2      0   0   0   1  \n",
      "3  3.0  5.3  2.0   1   2208   0   0   1  \n",
      "4  NaN  NaN  2.0   2   4300   0   0   2  \n",
      "\n",
      "[5 rows x 28 columns]\n"
     ]
    }
   ],
   "source": [
    "import pandas as pd\n",
    "\n",
    "# URL of the horse colic dataset\n",
    "url = 'https://raw.githubusercontent.com/jbrownlee/Datasets/master/horse-colic.csv'\n",
    "\n",
    "# Load the dataset into pandas dataframe\n",
    "df = pd.read_csv(url, header=None, na_values='?')\n",
    "\n",
    "# Display the first few rows to verify the loading\n",
    "print(df.head())"
   ]
  },
  {
   "cell_type": "code",
   "execution_count": 2,
   "id": "265ddd57",
   "metadata": {},
   "outputs": [
    {
     "name": "stdout",
     "output_type": "stream",
     "text": [
      "0       1\n",
      "3      60\n",
      "4      24\n",
      "5      58\n",
      "6      56\n",
      "7      69\n",
      "8      47\n",
      "9      32\n",
      "10     55\n",
      "11     44\n",
      "12     56\n",
      "13    104\n",
      "14    106\n",
      "15    247\n",
      "16    102\n",
      "17    118\n",
      "18     29\n",
      "19     33\n",
      "20    165\n",
      "21    198\n",
      "22      1\n",
      "dtype: int64\n"
     ]
    }
   ],
   "source": [
    "# Check for missing values in the dataset\n",
    "missing_values = df.isnull().sum()\n",
    "\n",
    "# Display columns with missing values and the total number of missing entries in each\n",
    "print(missing_values[missing_values > 0])"
   ]
  },
  {
   "cell_type": "markdown",
   "id": "f163a3fa",
   "metadata": {},
   "source": [
    "Here's a summary of our interaction that you can use for your assignment:\n",
    "\n",
    "Link: https://chatgpt.com/share/a07a28db-ccc5-4bd8-908e-a59c34859f52\n",
    "        \n",
    "Title: Working with a Dataset Containing Missing Values\n",
    "\n",
    "Objective: The goal of this interaction was to find and work with a dataset that contains missing values, load it into a pandas DataFrame, and perform an analysis to identify missing data.\n",
    "\n",
    "Process:\n",
    "\n",
    "Dataset Selection: I provided the \"Horse Colic\" dataset, which contains medical data for horses suffering from colic and includes missing values. The dataset is publicly available from this link.\n",
    "\n",
    "Loading Data into Pandas: A Python code snippet was provided to load the dataset into a pandas DataFrame using the read_csv function, with special handling for missing values using the na_values argument to recognize \"?\" as a missing value.\n",
    "\n",
    "python\n",
    "Copy code\n",
    "import pandas as pd\n",
    "url = 'https://raw.githubusercontent.com/jbrownlee/Datasets/master/horse-colic.csv'\n",
    "df = pd.read_csv(url, header=None, na_values='?')\n",
    "Checking for Missing Values: The next step was to check for missing values in the dataset by using the isnull() and sum() functions. This identifies which columns contain missing data and how many missing values are present in each column.\n",
    "\n",
    "python\n",
    "Copy code\n",
    "missing_values = df.isnull().sum()\n",
    "print(missing_values[missing_values > 0])\n",
    "Outcome: The interaction helped in understanding how to load a dataset with missing values and analyze it to identify the extent of missing data. This is crucial for further preprocessing steps, such as data imputation or deletion of missing entries.\n",
    "\n",
    "This summary provides a clear step-by-step account of our discussion and can be submitted as part of your assignment requirements. Let me know if you need further adjustments!"
   ]
  }
 ],
 "metadata": {
  "kernelspec": {
   "display_name": "Python 3 (ipykernel)",
   "language": "python",
   "name": "python3"
  },
  "language_info": {
   "codemirror_mode": {
    "name": "ipython",
    "version": 3
   },
   "file_extension": ".py",
   "mimetype": "text/x-python",
   "name": "python",
   "nbconvert_exporter": "python",
   "pygments_lexer": "ipython3",
   "version": "3.11.6"
  }
 },
 "nbformat": 4,
 "nbformat_minor": 5
}
